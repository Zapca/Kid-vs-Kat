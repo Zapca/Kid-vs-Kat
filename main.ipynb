{
 "cells": [
  {
   "cell_type": "code",
   "execution_count": 45,
   "metadata": {},
   "outputs": [],
   "source": [
    "import numpy as np \n",
    "import h5py \n",
    "from lr_utils import load_dataset\n",
    "import matplotlib.pyplot as plt\n",
    "from PIL import Image"
   ]
  },
  {
   "cell_type": "code",
   "execution_count": 46,
   "metadata": {},
   "outputs": [],
   "source": [
    "train_x_orig,train_y,test_x_orig,test_y,classes=load_dataset()"
   ]
  },
  {
   "cell_type": "code",
   "execution_count": 47,
   "metadata": {},
   "outputs": [
    {
     "name": "stdout",
     "output_type": "stream",
     "text": [
      "(209, 64, 64, 3) (50, 64, 64, 3) (1, 50) (1, 209) (2,)\n"
     ]
    }
   ],
   "source": [
    "print(train_x_orig.shape,test_x_orig.shape,test_y.shape,train_y.shape,classes.shape)"
   ]
  },
  {
   "cell_type": "code",
   "execution_count": 48,
   "metadata": {},
   "outputs": [
    {
     "name": "stdout",
     "output_type": "stream",
     "text": [
      "(12288, 209) (12288, 50)\n"
     ]
    }
   ],
   "source": [
    "train_x_flatten=train_x_orig.reshape(train_x_orig.shape[0],-1).T\n",
    "test_x_flatten=test_x_orig.reshape(test_x_orig.shape[0],-1).T\n",
    "print(train_x_flatten.shape,test_x_flatten.shape)"
   ]
  },
  {
   "cell_type": "code",
   "execution_count": 49,
   "metadata": {},
   "outputs": [
    {
     "name": "stdout",
     "output_type": "stream",
     "text": [
      "[[0.06666667 0.76862745 0.32156863 ... 0.56078431 0.08627451 0.03137255]\n",
      " [0.12156863 0.75294118 0.27843137 ... 0.60784314 0.09411765 0.10980392]\n",
      " [0.21960784 0.74509804 0.26666667 ... 0.64705882 0.09019608 0.20784314]\n",
      " ...\n",
      " [0.         0.32156863 0.54117647 ... 0.33333333 0.01568627 0.        ]\n",
      " [0.         0.31372549 0.55294118 ... 0.41960784 0.01960784 0.        ]\n",
      " [0.         0.31764706 0.55686275 ... 0.58431373 0.         0.        ]] [[0.61960784 0.45098039 1.         ... 0.16078431 0.07058824 0.52156863]\n",
      " [0.40784314 0.43137255 0.99215686 ... 0.18431373 0.07058824 0.63921569]\n",
      " [0.3254902  0.43529412 0.99607843 ... 0.32941176 0.0627451  0.29411765]\n",
      " ...\n",
      " [0.67843137 0.67058824 0.52156863 ... 0.71764706 0.56470588 0.01960784]\n",
      " [0.50196078 0.69019608 0.39607843 ... 0.55294118 0.5372549  0.08627451]\n",
      " [0.43137255 0.72941176 0.4745098  ... 0.45490196 0.42352941 0.01960784]]\n"
     ]
    }
   ],
   "source": [
    "train_x=train_x_flatten/255.\n",
    "test_x=test_x_flatten/255.\n",
    "print(train_x,test_x)"
   ]
  },
  {
   "cell_type": "code",
   "execution_count": 50,
   "metadata": {},
   "outputs": [
    {
     "data": {
      "text/plain": [
       "(array([[0.],\n",
       "        [0.]]),\n",
       " 0.0)"
      ]
     },
     "execution_count": 50,
     "metadata": {},
     "output_type": "execute_result"
    }
   ],
   "source": [
    "def sigmoid(z):\n",
    "\n",
    "    x=1/(1+np.exp(-z))\n",
    "\n",
    "    return x\n",
    "\n",
    "sigmoid(0)\n",
    "\n",
    "def intialisation_of_zeros(dim):\n",
    "\n",
    "    w=np.zeros((dim,1))\n",
    "    b=0.\n",
    "\n",
    "    return w,b\n",
    "\n",
    "intialisation_of_zeros(2)"
   ]
  },
  {
   "cell_type": "code",
   "execution_count": 51,
   "metadata": {},
   "outputs": [
    {
     "data": {
      "text/plain": [
       "({'dw': array([[0.99845601],\n",
       "         [2.39507239]]),\n",
       "  'db': 0.001455578136784208},\n",
       " 5.801545319394553)"
      ]
     },
     "execution_count": 51,
     "metadata": {},
     "output_type": "execute_result"
    }
   ],
   "source": [
    "def loss_grad(X,Y,w,b):\n",
    "\n",
    "    m=X.shape[1]\n",
    "    a=sigmoid(np.dot(w.T,X)+b)\n",
    "    loss=-1/m*np.sum(Y*np.log(a)+(1-Y)*np.log(1-a))\n",
    "\n",
    "    dw=1/m*np.dot(X,(a-Y).T)\n",
    "    db=1/m*np.sum(a-Y)\n",
    "\n",
    "    grad={\"dw\":dw,\n",
    "        \"db\":db}\n",
    "\n",
    "    return grad , loss \n",
    "\n",
    "w, b, X, Y = np.array([[1.],[2.]]), 2., np.array([[1.,2.,-1.],[3.,4.,-3.2]]), np.array([[1,0,1]])\n",
    "loss_grad(X,Y,w,b)"
   ]
  },
  {
   "cell_type": "code",
   "execution_count": 52,
   "metadata": {},
   "outputs": [
    {
     "name": "stdout",
     "output_type": "stream",
     "text": [
      "w = [[0.19033591]\n",
      " [0.12259159]]\n",
      "b = 1.9253598300845747\n",
      "dw = [[0.67752042]\n",
      " [1.41625495]]\n",
      "db = 0.21919450454067657\n",
      "costs =  1.0784313398164707\n"
     ]
    }
   ],
   "source": [
    "def fiterate(X,Y,w,b,no_of_iteration,learning_rate):\n",
    "\n",
    "    for i in range(no_of_iteration):\n",
    "\n",
    "        grad,loss=loss_grad(X,Y,w,b)\n",
    "\n",
    "        dw=grad[\"dw\"]\n",
    "        db=grad[\"db\"]\n",
    "\n",
    "        w=w-(learning_rate*dw)\n",
    "        b=b-(learning_rate*db)\n",
    "\n",
    "    paras={\"w\":w,\n",
    "           \"b\":b}\n",
    "        \n",
    "    grad={\"dw\":dw,\n",
    "          \"db\":db}\n",
    "        \n",
    "    return paras,grad,loss\n",
    "\n",
    "w, b, X, Y = np.array([[1.],[2.]]), 2., np.array([[1.,2.,-1.],[3.,4.,-3.2]]), np.array([[1,0,1]])\n",
    "paras, grad, loss = fiterate(X, Y, w, b, no_of_iteration= 100, learning_rate = 0.009)\n",
    "\n",
    "print (\"w = \" + str(paras[\"w\"]))\n",
    "print (\"b = \" + str(paras[\"b\"]))\n",
    "print (\"dw = \" + str(grad[\"dw\"]))\n",
    "print (\"db = \" + str(grad[\"db\"]))\n",
    "print (\"costs = \", loss)"
   ]
  },
  {
   "cell_type": "code",
   "execution_count": 53,
   "metadata": {},
   "outputs": [
    {
     "name": "stdout",
     "output_type": "stream",
     "text": [
      "predictions = [[1 1 0]]\n"
     ]
    }
   ],
   "source": [
    "def sambhavna(X,w,b):\n",
    "\n",
    "    m=X.shape[1]\n",
    "    a=sigmoid(np.dot(w.T,X)+b)\n",
    "    # print(a)\n",
    "    y_tred=np.zeros((1,m))\n",
    "\n",
    "    y_tred=np.where(a>0.5,1,0)\n",
    "\n",
    "    return y_tred\n",
    "\n",
    "w = np.array([[0.1124579],[0.23106775]])\n",
    "b = -0.3\n",
    "X = np.array([[1.,-1.1,-3.2],[1.2,2.,0.1]])\n",
    "print (\"predictions = \" + str(sambhavna(X,w,b)))"
   ]
  },
  {
   "cell_type": "code",
   "execution_count": 54,
   "metadata": {},
   "outputs": [],
   "source": [
    "def model(train_x,train_y,test_x,test_y,no_of_iteration,learning_rate,print_cost=True):\n",
    "\n",
    "    w,b=intialisation_of_zeros(train_x.shape[0])\n",
    "    paras,grad,loss=fiterate(train_x,train_y,w,b,no_of_iteration,learning_rate)\n",
    "\n",
    "    w=paras[\"w\"]\n",
    "    b=paras[\"b\"]\n",
    "\n",
    "    Y_prediction_train=sambhavna(train_x,w,b)\n",
    "    Y_prediction_test=sambhavna(test_x,w,b)\n",
    "\n",
    "    if print_cost:\n",
    "        print(\"train accuracy: {} %\".format(100 - np.mean(np.abs(Y_prediction_train - train_y)) * 100))\n",
    "        print(\"test accuracy: {} %\".format(100 - np.mean(np.abs(Y_prediction_test - test_y)) * 100))\n",
    "\n",
    "    \n",
    "    d = {\"costs\": loss,\n",
    "         \"Y_prediction_test\": Y_prediction_test, \n",
    "         \"Y_prediction_train\" : Y_prediction_train, \n",
    "         \"w\" : w, \n",
    "         \"b\" : b,\n",
    "         \"learning_rate\" : learning_rate,\n",
    "         \"num_iterations\": no_of_iteration}\n",
    "    \n",
    "    return d"
   ]
  },
  {
   "cell_type": "code",
   "execution_count": 55,
   "metadata": {},
   "outputs": [
    {
     "name": "stdout",
     "output_type": "stream",
     "text": [
      "train accuracy: 99.04306220095694 %\n",
      "test accuracy: 70.0 %\n"
     ]
    }
   ],
   "source": [
    "logistic_regression_model = model(train_x, train_y, test_x, test_y, no_of_iteration=2000, learning_rate=0.005, print_cost=True)"
   ]
  },
  {
   "cell_type": "code",
   "execution_count": 56,
   "metadata": {},
   "outputs": [
    {
     "name": "stdout",
     "output_type": "stream",
     "text": [
      "y = 0, you predicted that it is a \"non-cat\" picture.\n"
     ]
    },
    {
     "data": {
      "image/png": "[encoded data removed]",
      "text/plain": [
       "<Figure size 640x480 with 1 Axes>"
      ]
     },
     "metadata": {},
     "output_type": "display_data"
    }
   ],
   "source": [
    "# Example of a picture that was wrongly classified.\n",
    "index = 45\n",
    "plt.imshow(test_x[:, index].reshape((64,64, 3)))\n",
    "print (\"y = \" + str(test_y[0,index]) + \", you predicted that it is a \\\"\" + classes[int(logistic_regression_model['Y_prediction_test'][0,index])].decode(\"utf-8\") +  \"\\\" picture.\")"
   ]
  },
  {
   "cell_type": "code",
   "execution_count": 76,
   "metadata": {},
   "outputs": [
    {
     "name": "stdout",
     "output_type": "stream",
     "text": [
      "[[0]]\n",
      "y = 0, your algorithm predicts a \"non-cat\" picture.\n"
     ]
    },
    {
     "data": {
      "image/png": "[encoded data removed]",
      "text/plain": [
       "<Figure size 640x480 with 1 Axes>"
      ]
     },
     "metadata": {},
     "output_type": "display_data"
    }
   ],
   "source": [
    "# change this to the name of your image file\n",
    "my_image = \"2.jpg\"   \n",
    "\n",
    "# We preprocess the image to fit your algorithm.\n",
    "fname = \"images/\" + my_image\n",
    "image = np.array(Image.open(fname).resize((64,64)))\n",
    "plt.imshow(image)\n",
    "image = image / 255.\n",
    "image = image.reshape((1, 64 * 64 * 3)).T\n",
    "my_predicted_image = sambhavna(image, logistic_regression_model[\"w\"], logistic_regression_model[\"b\"])\n",
    "print(sambhavna(image, logistic_regression_model[\"w\"], logistic_regression_model[\"b\"]))\n",
    "print(\"y = \" + str(np.squeeze(my_predicted_image)) + \", your algorithm predicts a \\\"\" + classes[int(np.squeeze(my_predicted_image)),].decode(\"utf-8\") +  \"\\\" picture.\")"
   ]
  }
 ],
 "metadata": {
  "kernelspec": {
   "display_name": "Python 3",
   "language": "python",
   "name": "python3"
  },
  "language_info": {
   "codemirror_mode": {
    "name": "ipython",
    "version": 3
   },
   "file_extension": ".py",
   "mimetype": "text/x-python",
   "name": "python",
   "nbconvert_exporter": "python",
   "pygments_lexer": "ipython3",
   "version": "3.11.2"
  }
 },
 "nbformat": 4,
 "nbformat_minor": 2
}
